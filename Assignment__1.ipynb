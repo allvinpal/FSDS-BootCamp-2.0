{
  "nbformat": 4,
  "nbformat_minor": 0,
  "metadata": {
    "colab": {
      "provenance": [],
      "authorship_tag": "ABX9TyMIreJvEEZg3h/srGsl5K+j",
      "include_colab_link": true
    },
    "kernelspec": {
      "name": "python3",
      "display_name": "Python 3"
    },
    "language_info": {
      "name": "python"
    }
  },
  "cells": [
    {
      "cell_type": "markdown",
      "metadata": {
        "id": "view-in-github",
        "colab_type": "text"
      },
      "source": [
        "<a href=\"https://colab.research.google.com/github/allvinpal/FSDS-BootCamp-2.0/blob/main/Assignment__1.ipynb\" target=\"_parent\"><img src=\"https://colab.research.google.com/assets/colab-badge.svg\" alt=\"Open In Colab\"/></a>"
      ]
    },
    {
      "cell_type": "markdown",
      "source": [
        "##Python Basic | Assignment 01"
      ],
      "metadata": {
        "id": "KQiERjosp3MO"
      }
    },
    {
      "cell_type": "markdown",
      "source": [
        "1. In the below elements which of them are values or an expression? eg:- values can be integer or string and expressions will be mathematical operators.\n",
        "\n",
        "*\n",
        "\n",
        "'hello'\n",
        "\n",
        "-87.8\n",
        "\n",
        "-\n",
        "\n",
        "/\n",
        "\n",
        "+\n",
        "\n",
        "6"
      ],
      "metadata": {
        "id": "wb6J_VeEqBsS"
      }
    },
    {
      "cell_type": "markdown",
      "source": [
        "**Answer: 1**\n",
        "\n",
        "**Values:**\n",
        "\n",
        "'hello': String\n",
        "\n",
        "-87.8: Float\n",
        "\n",
        "6: Integer\n",
        "\n",
        "**Expressions:**\n",
        "\n",
        "*, -, /, +: Mathematical operators"
      ],
      "metadata": {
        "id": "HSl7NO_LrDUA"
      }
    },
    {
      "cell_type": "markdown",
      "source": [
        "2. What is the difference between string and variable?"
      ],
      "metadata": {
        "id": "rzf0-vWcrrRY"
      }
    },
    {
      "cell_type": "markdown",
      "source": [
        "**Answer: 2**\n",
        "\n",
        "**String:**\n",
        "\n",
        "* A string is a data type used to represent text, which consists of a sequence of characters.\n",
        "\n",
        "* It is enclosed within single (' ') or double (\" \") quotation marks.\n",
        "\n",
        "* Examples of strings: \"hello\", 'world', \"123\".\n",
        "\n",
        "**Variable:**\n",
        "\n",
        "*  A variable is a symbolic name that represents or refers to a value stored in the computer's memory.\n",
        "\n",
        "*  It acts as a placeholder for storing different types of data, such as numbers, strings, or objects.\n",
        "\n",
        "* Variables are used to store and manipulate data within a program.\n",
        "\n",
        "* Unlike strings, which represent specific text values, variables can represent various types of data and can change their value during program execution.\n"
      ],
      "metadata": {
        "id": "hIz50hJ9rs59"
      }
    },
    {
      "cell_type": "markdown",
      "source": [
        "3. Describe three different data types."
      ],
      "metadata": {
        "id": "pXjdAs1GtG1x"
      }
    },
    {
      "cell_type": "markdown",
      "source": [
        "Answer: 3\n",
        "\n",
        "**Strings:** It is data type which can be contain text, numbers and other data types but it should be enclosed in double quotes.\n",
        "'this is a string number 007'\n",
        "\n",
        "**Integers and floats:** It is data type which are numeric values as like 8, -6 etc. & for decimal numbers we have different data type called as floats. e.g. 8.6 etc.\n",
        "\n",
        "**Boolean:** These are data types which holds values like true or false. For computer true is 1 and false is 0."
      ],
      "metadata": {
        "id": "GSb2vn2YtCVT"
      }
    },
    {
      "cell_type": "code",
      "execution_count": null,
      "metadata": {
        "id": "JjvVDNcFp0df"
      },
      "outputs": [],
      "source": []
    }
  ]
}